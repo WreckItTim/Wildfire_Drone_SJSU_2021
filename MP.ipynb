{
 "cells": [
  {
   "cell_type": "markdown",
   "metadata": {},
   "source": [
    "# Mission Parameters"
   ]
  },
  {
   "cell_type": "code",
   "execution_count": 1,
   "metadata": {},
   "outputs": [
    {
     "name": "stdout",
     "output_type": "stream",
     "text": [
      "\u001b[1mDefine Radial Zone and Time Period to Collect Fire Data\u001b[0m\n",
      "General Longitude of Interest (float):-121.8811\n",
      "General Latitude of Interest (float):37.3352\n",
      "Radius of Interest (int, meters):40000\n",
      "Start date for fire data collection (yyyy-mm-dd):2021-04-25\n",
      "End date for fire data collection (yyyy-mm-dd):2021-04-26\n",
      "\n",
      "\n",
      "\u001b[1mDefine Flight Altitude (x meter max for Unreal Simulation, x meter max for Tello Drone)\u001b[0m\n",
      "Flight Altitude (int):29\n"
     ]
    }
   ],
   "source": [
    "import geemap\n",
    "import os\n",
    "import ee\n",
    "import numpy as np\n",
    "import matplotlib.pyplot as plt\n",
    "import csv\n",
    "import datetime\n",
    "import pickle \n",
    "params = pickle.load(open( \"params.p\", \"rb\" ))\n",
    "class color:\n",
    "    PURPLE = '\\033[95m'\n",
    "    CYAN = '\\033[96m'\n",
    "    DARKCYAN = '\\033[36m'\n",
    "    BLUE = '\\033[94m'\n",
    "    GREEN = '\\033[92m'\n",
    "    YELLOW = '\\033[93m'\n",
    "    RED = '\\033[91m'\n",
    "    BOLD = '\\033[1m'\n",
    "    UNDERLINE = '\\033[4m'\n",
    "    END = '\\033[0m'\n",
    "print(color.BOLD + 'Define Radial Zone and Time Period to Collect Fire Data' + color.END)\n",
    "longitude = input(color.UNDERLINE + 'General Longitude of Interest (float):' + color.END)\n",
    "try:\n",
    "    val = float(longitude)\n",
    "except ValueError:\n",
    "    print(\"That's not a number! Rerun the cell and enter a GPS longitude coordinate (float)\")   \n",
    "latitude = input(color.UNDERLINE + 'General Latitude of Interest (float):' + color.END)\n",
    "try:\n",
    "    val = float(latitude)\n",
    "except ValueError:\n",
    "    print(\"That's not a number! Rerun the cell and enter a GPS latitude coordinate (float)\")\n",
    "radius_of_interest_meters = input(color.UNDERLINE + 'Radius of Interest (int, meters):' + color.END)\n",
    "try:\n",
    "    val = int(radius_of_interest_meters)\n",
    "except ValueError:\n",
    "    print(\"That's not a number! Rerun the cell and enter a flight altitude value (int, meters)\")\n",
    "start = input(color.UNDERLINE + 'Start date for fire data collection (yyyy-mm-dd):' + color.END)\n",
    "try:\n",
    "    datetime.datetime.strptime(start, \"%Y-%m-%d\").date()\n",
    "except ValueError:\n",
    "    print(\"That's not a date! Rerun the cell and enter a start date using the yyyy-mm-dd format\")\n",
    "end = input(color.UNDERLINE + 'End date for fire data collection (yyyy-mm-dd):' + color.END)\n",
    "try:\n",
    "    datetime.datetime.strptime(end, \"%Y-%m-%d\").date()\n",
    "except ValueError:\n",
    "    print(\"That's not a date! Rerun the cell and enter a start date using the yyyy-mm-dd format\")\n",
    "print('')\n",
    "print('')\n",
    "print(color.BOLD + 'Define Flight Altitude (x meter max for Unreal Simulation, x meter max for Tello Drone)' + color.END)\n",
    "altitude = input(color.UNDERLINE + 'Flight Altitude (int):' + color.END)\n",
    "try:\n",
    "    val = int(altitude)\n",
    "except ValueError:\n",
    "    print(\"That's not a number! Rerun the cell and enter a flight altitude (int)\") \n",
    "altitude = int(altitude)\n",
    "if altitude >= params['max_alt']: \n",
    "    print(\"That altitude is too high! Rerun the cell and enter a flight altitude within the given range (int)\") "
   ]
  },
  {
   "cell_type": "code",
   "execution_count": 2,
   "metadata": {},
   "outputs": [
    {
     "name": "stdout",
     "output_type": "stream",
     "text": [
      "Wait for the fire detection data to load . . .\n",
      "\u001b[1mStep 1: Use the Draw a Marker tool to define flight destination (fire area, etc.)\u001b[0m\n",
      "\u001b[1mStep 2: Use the Draw a Rectangle tool to define general flight area\u001b[0m\n"
     ]
    },
    {
     "data": {
      "application/vnd.jupyter.widget-view+json": {
       "model_id": "f1ed52a4e0c3432282976db4de9bb5bc",
       "version_major": 2,
       "version_minor": 0
      },
      "text/plain": [
       "Map(center=[37.33524103448547, -121.88109856880833], controls=(WidgetControl(options=['position', 'transparent…"
      ]
     },
     "metadata": {},
     "output_type": "display_data"
    }
   ],
   "source": [
    "#requirements\n",
    "import geemap\n",
    "import os\n",
    "import ee\n",
    "import numpy as np\n",
    "import matplotlib.pyplot as plt\n",
    "import csv\n",
    "\n",
    "longitude = float(longitude)\n",
    "latitude = float(latitude)\n",
    "radius_of_interest_meters = int(radius_of_interest_meters)\n",
    "start = str(start).strip()\n",
    "end = str(end).strip()\n",
    "\n",
    "\n",
    "\n",
    "#create basemap for SJ\n",
    "Map = geemap.Map(center=[latitude, longitude], zoom=12)\n",
    "Map.add_basemap('HYBRID')\n",
    "area_of_interest = ee.Geometry.Point([longitude, latitude]).buffer(radius_of_interest_meters)\n",
    "goes_16_data = ee.ImageCollection('NOAA/GOES/16/FDCF').filterDate(start, end).filterBounds(area_of_interest)\n",
    "goes_17_data = ee.ImageCollection('NOAA/GOES/17/FDCF').filterDate(start, end).filterBounds(area_of_interest)\n",
    "fire_mask_codes = [10, 30, 11, 31, 12, 32, 13, 33, 14, 34, 15, 35]\n",
    "confidence_values = [1.0, 1.0, 0.9, 0.9, 0.8, 0.8, 0.5, 0.5, 0.3, 0.3, 0.1, 0.1]\n",
    "default_confidence_value = 0\n",
    "def map_from_mask_codes_to_confidence_values(image):   \n",
    "    return image.clip(area_of_interest).remap(fire_mask_codes, confidence_values, default_confidence_value)\n",
    "goes_16_confidence = goes_16_data.select(['Mask']).map(map_from_mask_codes_to_confidence_values)\n",
    "goes_17_confidence = goes_17_data.select(['Mask']).map(map_from_mask_codes_to_confidence_values)\n",
    "goes_16_max_confidence = goes_16_confidence.reduce(ee.Reducer.max())\n",
    "goes_17_max_confidence = goes_17_confidence.reduce(ee.Reducer.max())\n",
    "Map.centerObject(area_of_interest, 9)\n",
    "affected_area_palette = ['white', 'yellow', 'orange', 'red', 'purple'];\n",
    "combined_confidence = ee.ImageCollection([goes_16_max_confidence,\n",
    "goes_17_max_confidence]).reduce(ee.Reducer.min())\n",
    "kernell = ee.Kernel.square(2000, 'meters', True)\n",
    "smoothed_confidence = combined_confidence.reduceNeighborhood(\n",
    "    reducer=ee.Reducer.mean(),\n",
    "    kernel= kernell,\n",
    "    optimization= 'boxcar')\n",
    "high_confidence = smoothed_confidence.gt(0.6)\n",
    "affected_areas = high_confidence.reduceToVectors(\n",
    "    scale= 200, \n",
    "    maxPixels= 1e10,\n",
    "    geometry= area_of_interest).filter(ee.Filter.eq('label', 1));\n",
    "affected_areas_outline = ee.Image().byte().paint(featureCollection= affected_areas,\n",
    "width= 2)\n",
    "def smooth(feature):\n",
    "    max_error_meters = 500\n",
    "    return ee.Feature(feature).simplify(max_error_meters)\n",
    "affected_areas_smoothed = ee.FeatureCollection(affected_areas).map(smooth)\n",
    "affected_areas_smoothed_outline = ee.Image().byte().paint(featureCollection= affected_areas_smoothed,\n",
    "width= 2)\n",
    "Map.addLayer(area_of_interest, {'opacity':0.2}, \"Area of Interest\")\n",
    "Map.addLayer(smoothed_confidence,\n",
    "{'opacity': 0.3, 'min': 0, 'max': 1, 'palette': affected_area_palette},\n",
    "'Smoothed confidence')\n",
    "Map.addLayer(high_confidence,\n",
    "{'opacity': 0.3, 'min': 0, 'max': 1, 'palette': affected_area_palette},\n",
    "'High confidence')\n",
    "Map.addLayer(affected_areas_smoothed_outline,\n",
    "{'palette': 'purple'},\n",
    "'Smoothed affected areas', True, 0.3)\n",
    "print('Wait for the fire detection data to load . . .')\n",
    "print(color.BOLD + 'Step 1: Use the Draw a Marker tool to define flight destination (fire area, etc.)' + color.END)\n",
    "print(color.BOLD + 'Step 2: Use the Draw a Rectangle tool to define general flight area' + color.END)\n",
    "Map"
   ]
  },
  {
   "cell_type": "markdown",
   "metadata": {},
   "source": [
    "#### Output Info & Leave Notebook "
   ]
  },
  {
   "cell_type": "code",
   "execution_count": 3,
   "metadata": {},
   "outputs": [],
   "source": [
    "#draw region on map \n",
    "feature = Map.draw_features\n",
    "roi = feature[1].geometry()\n",
    "\n",
    "collection = ee.ImageCollection('COPERNICUS/S2_SR').filterDate('2020-01-01', '2021-01-01').filterBounds(roi).sort('CLOUD_COVER').first()\n",
    "img = collection.select(['B4', 'B3', 'B2'])\n",
    "#img = trueColor.reduce(ee.Reducer.mean())\n",
    "\n",
    "Map.centerObject(roi, 13)\n",
    "Map.addLayer(collection,{'min':0, 'max':3000, 'bands': ['B4', 'B3', 'B2'], 'opacity':0.5}, 'Sentinel')\n",
    "#~250k max pixels (wxh)\n",
    "#shape is height, width\n",
    "rgb_img = geemap.ee_to_numpy(img, region=roi)\n",
    "from PIL import Image\n",
    "pixels = np.asarray(rgb_img)\n",
    "rgb_img_test = (255*(pixels - pixels.min())/(pixels.max() - pixels.min())).astype('uint8')\n",
    "#plt.imshow(rgb_img_test)\n",
    "#plt.show()\n",
    "#array to image and save locally (need tif for prediction script)\n",
    "from PIL import Image\n",
    "image = Image.fromarray(rgb_img_test)\n",
    "Image.fromarray(rgb_img_test).save('satellite.tif')\n",
    "\n",
    "params['sat_img'] = rgb_img_test\n",
    "params['altitude'] = altitude\n",
    "pickle.dump(params, open( \"params.p\", \"wb\" ))\n",
    "\n",
    "props = roi.getInfo()\n",
    "coords = props['coordinates']\n",
    "flat_list = [item for sublist in coords for item in sublist]\n",
    "coords = flat_list[:4]\n",
    "coords = str(coords).replace('[',\"\").replace(\"]\",\"\").split(', ')\n",
    "fire = feature[0].geometry()\n",
    "fireinfo = fire.getInfo()\n",
    "coords_fire = fireinfo['coordinates']\n",
    "coords_fire = [str(i) for i in coords_fire]\n",
    "with open('coordinates.csv', 'w') as f:\n",
    "    # using csv.writer method from CSV package\n",
    "    write = csv.writer(f)\n",
    "    write.writerow(coords)\n",
    "    write.writerow(coords_fire)"
   ]
  },
  {
   "cell_type": "code",
   "execution_count": null,
   "metadata": {},
   "outputs": [],
   "source": []
  }
 ],
 "metadata": {
  "kernelspec": {
   "display_name": "Python 3",
   "language": "python",
   "name": "python3"
  },
  "language_info": {
   "codemirror_mode": {
    "name": "ipython",
    "version": 3
   },
   "file_extension": ".py",
   "mimetype": "text/x-python",
   "name": "python",
   "nbconvert_exporter": "python",
   "pygments_lexer": "ipython3",
   "version": "3.8.3"
  }
 },
 "nbformat": 4,
 "nbformat_minor": 5
}
